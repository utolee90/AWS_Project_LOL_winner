{
 "cells": [
  {
   "cell_type": "code",
   "execution_count": 1,
   "metadata": {},
   "outputs": [],
   "source": [
    "import numpy as np\n",
    "import pandas as pd\n",
    "import matplotlib.pyplot as plt\n",
    "%matplotlib inline"
   ]
  },
  {
   "cell_type": "code",
   "execution_count": 2,
   "metadata": {},
   "outputs": [],
   "source": [
    "data = pd.read_csv(\"high_diamond_ranked_10min.csv\")\n"
   ]
  },
  {
   "cell_type": "code",
   "execution_count": 3,
   "metadata": {},
   "outputs": [
    {
     "name": "stdout",
     "output_type": "stream",
     "text": [
      "<class 'pandas.core.frame.DataFrame'>\n",
      "RangeIndex: 9879 entries, 0 to 9878\n",
      "Data columns (total 40 columns):\n",
      " #   Column                        Non-Null Count  Dtype  \n",
      "---  ------                        --------------  -----  \n",
      " 0   gameId                        9879 non-null   int64  \n",
      " 1   blueWins                      9879 non-null   int64  \n",
      " 2   blueWardsPlaced               9879 non-null   int64  \n",
      " 3   blueWardsDestroyed            9879 non-null   int64  \n",
      " 4   blueFirstBlood                9879 non-null   int64  \n",
      " 5   blueKills                     9879 non-null   int64  \n",
      " 6   blueDeaths                    9879 non-null   int64  \n",
      " 7   blueAssists                   9879 non-null   int64  \n",
      " 8   blueEliteMonsters             9879 non-null   int64  \n",
      " 9   blueDragons                   9879 non-null   int64  \n",
      " 10  blueHeralds                   9879 non-null   int64  \n",
      " 11  blueTowersDestroyed           9879 non-null   int64  \n",
      " 12  blueTotalGold                 9879 non-null   int64  \n",
      " 13  blueAvgLevel                  9879 non-null   float64\n",
      " 14  blueTotalExperience           9879 non-null   int64  \n",
      " 15  blueTotalMinionsKilled        9879 non-null   int64  \n",
      " 16  blueTotalJungleMinionsKilled  9879 non-null   int64  \n",
      " 17  blueGoldDiff                  9879 non-null   int64  \n",
      " 18  blueExperienceDiff            9879 non-null   int64  \n",
      " 19  blueCSPerMin                  9879 non-null   float64\n",
      " 20  blueGoldPerMin                9879 non-null   float64\n",
      " 21  redWardsPlaced                9879 non-null   int64  \n",
      " 22  redWardsDestroyed             9879 non-null   int64  \n",
      " 23  redFirstBlood                 9879 non-null   int64  \n",
      " 24  redKills                      9879 non-null   int64  \n",
      " 25  redDeaths                     9879 non-null   int64  \n",
      " 26  redAssists                    9879 non-null   int64  \n",
      " 27  redEliteMonsters              9879 non-null   int64  \n",
      " 28  redDragons                    9879 non-null   int64  \n",
      " 29  redHeralds                    9879 non-null   int64  \n",
      " 30  redTowersDestroyed            9879 non-null   int64  \n",
      " 31  redTotalGold                  9879 non-null   int64  \n",
      " 32  redAvgLevel                   9879 non-null   float64\n",
      " 33  redTotalExperience            9879 non-null   int64  \n",
      " 34  redTotalMinionsKilled         9879 non-null   int64  \n",
      " 35  redTotalJungleMinionsKilled   9879 non-null   int64  \n",
      " 36  redGoldDiff                   9879 non-null   int64  \n",
      " 37  redExperienceDiff             9879 non-null   int64  \n",
      " 38  redCSPerMin                   9879 non-null   float64\n",
      " 39  redGoldPerMin                 9879 non-null   float64\n",
      "dtypes: float64(6), int64(34)\n",
      "memory usage: 3.0 MB\n"
     ]
    }
   ],
   "source": [
    "data.info()"
   ]
  },
  {
   "cell_type": "code",
   "execution_count": 4,
   "metadata": {},
   "outputs": [],
   "source": [
    "X = data.drop(labels=['blueWins', 'gameId'], axis=1)\n",
    "y = data['blueWins']"
   ]
  },
  {
   "cell_type": "code",
   "execution_count": 5,
   "metadata": {},
   "outputs": [],
   "source": [
    "corrTable = X.corr()\n",
    "cols = X.columns\n",
    "newCols = []\n",
    "for i in cols:\n",
    "    for j in cols:\n",
    "        if( i!=j and abs(corrTable[i][j])<0.01 ):\n",
    "            newCols.append(j)\n",
    "newCols = list( pd.Series(newCols).unique() )"
   ]
  },
  {
   "cell_type": "code",
   "execution_count": 6,
   "metadata": {},
   "outputs": [
    {
     "name": "stdout",
     "output_type": "stream",
     "text": [
      "['blueFirstBlood', 'blueDeaths', 'blueTowersDestroyed', 'redFirstBlood', 'redKills', 'redAssists', 'redTowersDestroyed', 'redTotalGold', 'redAvgLevel', 'redTotalJungleMinionsKilled', 'redGoldPerMin', 'blueWardsPlaced', 'blueKills', 'redWardsPlaced', 'redDeaths', 'redWardsDestroyed', 'blueWardsDestroyed', 'blueTotalJungleMinionsKilled', 'redTotalMinionsKilled', 'redCSPerMin', 'blueHeralds', 'blueAvgLevel', 'blueTotalExperience', 'blueEliteMonsters', 'redHeralds', 'blueAssists', 'blueTotalMinionsKilled', 'blueCSPerMin'] 28\n"
     ]
    }
   ],
   "source": [
    "print(newCols, len(newCols))"
   ]
  },
  {
   "cell_type": "code",
   "execution_count": 7,
   "metadata": {},
   "outputs": [],
   "source": [
    "X0 = data[newCols]"
   ]
  },
  {
   "cell_type": "code",
   "execution_count": 8,
   "metadata": {},
   "outputs": [],
   "source": [
    "#학습시키기\n",
    "from sklearn.neighbors import KNeighborsClassifier\n",
    "from sklearn.tree import DecisionTreeClassifier\n",
    "from sklearn.ensemble import RandomForestClassifier\n",
    "from sklearn.svm import SVC\n",
    "from sklearn.model_selection import KFold, cross_val_score, train_test_split\n",
    "from sklearn.neural_network import MLPClassifier"
   ]
  },
  {
   "cell_type": "code",
   "execution_count": 9,
   "metadata": {},
   "outputs": [],
   "source": [
    "# cross_val_score 전처리\n",
    "scoring='accuracy'\n",
    "k_fold = KFold(n_splits = 15, shuffle = True, random_state = 0)"
   ]
  },
  {
   "cell_type": "code",
   "execution_count": 10,
   "metadata": {},
   "outputs": [],
   "source": [
    "#우선 KNN 방식으로 검젇하기 k-neighbor 방식 , n-neighbors를 5, 15, 30, 100으로 조정 \n",
    "clf0 = KNeighborsClassifier(n_neighbors = 5)\n",
    "clf1 = KNeighborsClassifier(n_neighbors = 15)\n",
    "clf2 = KNeighborsClassifier(n_neighbors = 30)\n"
   ]
  },
  {
   "cell_type": "code",
   "execution_count": 11,
   "metadata": {},
   "outputs": [
    {
     "name": "stdout",
     "output_type": "stream",
     "text": [
      "[0.6616085  0.68892261 0.65098634 0.62822458 0.67526555 0.676783\n",
      " 0.63429439 0.65402124 0.676783   0.6443769  0.6656535  0.67325228\n",
      " 0.69300912 0.67933131 0.66261398] 0.6643417538778015\n",
      "[0.69044006 0.69954476 0.6707132  0.68133536 0.70561457 0.69954476\n",
      " 0.6737481  0.69347496 0.68892261 0.67173252 0.69300912 0.68541033\n",
      " 0.69452888 0.71276596 0.69452888] 0.690354271692857\n",
      "[0.71320182 0.69499241 0.6707132  0.676783   0.71623672 0.69195751\n",
      " 0.69499241 0.68740516 0.69044006 0.68237082 0.70364742 0.70212766\n",
      " 0.70516717 0.72340426 0.70364742] 0.697139136544425\n"
     ]
    }
   ],
   "source": [
    "score_c0 = cross_val_score(clf0, X0, y, cv = k_fold, scoring = scoring)\n",
    "score_c1 = cross_val_score(clf1, X0, y, cv = k_fold, scoring = scoring)\n",
    "score_c2 = cross_val_score(clf2, X0, y, cv = k_fold, scoring = scoring)\n",
    "print(score_c0, np.mean(np.array(score_c0)))\n",
    "print(score_c1, np.mean(np.array(score_c1)))\n",
    "print(score_c2, np.mean(np.array(score_c2)))"
   ]
  },
  {
   "cell_type": "code",
   "execution_count": 12,
   "metadata": {},
   "outputs": [],
   "source": [
    "#DecisionTree 방식 사용하기\n",
    "dtf0 = DecisionTreeClassifier()\n",
    "dtf1 = DecisionTreeClassifier(criterion=\"entropy\")"
   ]
  },
  {
   "cell_type": "code",
   "execution_count": 13,
   "metadata": {},
   "outputs": [
    {
     "name": "stdout",
     "output_type": "stream",
     "text": [
      "[0.62215478 0.64036419 0.62822458 0.61305008 0.63732929 0.61153263\n",
      " 0.57359636 0.60546282 0.61456753 0.62613982 0.64285714 0.62462006\n",
      " 0.65045593 0.63829787 0.60030395] 0.6219304678575656\n",
      "[0.61760243 0.61608498 0.62670713 0.59787557 0.64188164 0.63732929\n",
      " 0.63429439 0.62518968 0.58725341 0.64741641 0.64133739 0.65197568\n",
      " 0.65045593 0.61550152 0.63221884] 0.6282082858649544\n"
     ]
    }
   ],
   "source": [
    "score_d0 = cross_val_score(dtf0, X0, y, cv = k_fold, scoring = scoring)\n",
    "score_d1 = cross_val_score(dtf1, X0, y, cv = k_fold, scoring = scoring)\n",
    "print(score_d0, np.mean(np.array(score_d0)))\n",
    "print(score_d1, np.mean(np.array(score_d1)))"
   ]
  },
  {
   "cell_type": "code",
   "execution_count": 14,
   "metadata": {},
   "outputs": [],
   "source": [
    "#Random Forest 방식\n",
    "rff0 = RandomForestClassifier()\n",
    "rff1 = RandomForestClassifier(n_estimators=300)\n",
    "rff2 = RandomForestClassifier(n_estimators=100)"
   ]
  },
  {
   "cell_type": "code",
   "execution_count": 15,
   "metadata": {},
   "outputs": [
    {
     "name": "stdout",
     "output_type": "stream",
     "text": [
      "[0.71927162 0.69802731 0.70713202 0.69954476 0.74658574 0.70409712\n",
      " 0.69802731 0.676783   0.72078907 0.7218845  0.72948328 0.71580547\n",
      " 0.75531915 0.72036474 0.72492401] 0.7158692747754187\n",
      "[0.71927162 0.69347496 0.69954476 0.68892261 0.76631259 0.70409712\n",
      " 0.69044006 0.68740516 0.73141123 0.71732523 0.75075988 0.71276596\n",
      " 0.74164134 0.73404255 0.72340426] 0.7173879554081666\n"
     ]
    }
   ],
   "source": [
    "score_d0 = cross_val_score(rff0, X0, y, cv = k_fold, scoring = scoring)\n",
    "score_d1 = cross_val_score(rff1, X0, y, cv = k_fold, scoring = scoring)\n",
    "print(score_d0, np.mean(np.array(score_d0)))\n",
    "print(score_d1, np.mean(np.array(score_d1)))"
   ]
  },
  {
   "cell_type": "code",
   "execution_count": 16,
   "metadata": {},
   "outputs": [],
   "source": [
    "#SVM 방식\n",
    "svf0 = SVC()\n",
    "svf1 = SVC(kernel='poly', degree=4)"
   ]
  },
  {
   "cell_type": "code",
   "execution_count": 17,
   "metadata": {},
   "outputs": [
    {
     "name": "stdout",
     "output_type": "stream",
     "text": [
      "[0.70409712 0.68892261 0.69650986 0.68437026 0.72837633 0.70106222\n",
      " 0.67830046 0.69347496 0.70713202 0.67173252 0.70212766 0.71884498\n",
      " 0.73708207 0.70212766 0.70668693] 0.7013898433812553\n",
      "[0.70409712 0.69195751 0.69802731 0.68892261 0.72837633 0.69802731\n",
      " 0.67526555 0.68892261 0.70257967 0.67629179 0.70212766 0.71428571\n",
      " 0.73708207 0.7006079  0.70668693] 0.700883872743234\n"
     ]
    }
   ],
   "source": [
    "score_s0 = cross_val_score(svf0, X0, y, cv = k_fold, scoring = scoring)\n",
    "score_s1 = cross_val_score(svf1, X0, y, cv = k_fold, scoring = scoring)\n",
    "print(score_s0, np.mean(np.array(score_s0)))\n",
    "print(score_s1, np.mean(np.array(score_s1)))"
   ]
  },
  {
   "cell_type": "code",
   "execution_count": 30,
   "metadata": {},
   "outputs": [
    {
     "data": {
      "text/plain": [
       "SVC()"
      ]
     },
     "execution_count": 30,
     "metadata": {},
     "output_type": "execute_result"
    }
   ],
   "source": [
    "svf2 = SVC()\n",
    "svf2.fit(X0.iloc[200:,:],y[200:])"
   ]
  },
  {
   "cell_type": "code",
   "execution_count": 34,
   "metadata": {},
   "outputs": [
    {
     "name": "stdout",
     "output_type": "stream",
     "text": [
      "154\n"
     ]
    }
   ],
   "source": [
    "cnt =0\n",
    "for i in range(200):\n",
    "    if svf2.predict(X0.iloc[0:200,:])[i] == y[i]: cnt +=1\n",
    "print(cnt)"
   ]
  },
  {
   "cell_type": "code",
   "execution_count": 31,
   "metadata": {},
   "outputs": [
    {
     "data": {
      "text/plain": [
       "array([0, 0, 0, 0, 0, 1, 1, 0, 0, 0, 0, 0, 1, 0, 1, 0, 1, 0, 1, 0, 1, 0,\n",
       "       0, 1, 0, 0, 1, 1, 0, 0, 1, 1, 0, 0, 1, 0, 0, 0, 0, 0, 0, 1, 1, 0,\n",
       "       1, 0, 1, 1, 0, 0, 0, 1, 1, 1, 1, 0, 0, 1, 1, 1, 0, 0, 1, 1, 0, 0,\n",
       "       0, 0, 1, 0, 0, 1, 1, 0, 1, 1, 1, 1, 0, 1, 1, 0, 0, 0, 0, 1, 1, 0,\n",
       "       1, 0, 0, 1, 1, 1, 0, 0, 1, 1, 1, 0, 0, 0, 0, 1, 0, 1, 0, 1, 1, 1,\n",
       "       0, 0, 0, 0, 1, 0, 0, 1, 0, 0, 0, 0, 0, 1, 0, 0, 0, 1, 0, 1, 1, 1,\n",
       "       1, 0, 0, 0, 0, 1, 1, 0, 0, 0, 1, 0, 0, 1, 0, 0, 0, 1, 1, 0, 1, 0,\n",
       "       0, 0, 1, 1, 0, 1, 1, 1, 1, 1, 1, 0, 0, 0, 0, 1, 0, 1, 0, 0, 0, 1,\n",
       "       1, 0, 1, 0, 1, 0, 1, 1, 0, 0, 1, 0, 1, 0, 0, 0, 1, 0, 0, 1, 0, 1,\n",
       "       0, 1], dtype=int64)"
      ]
     },
     "execution_count": 31,
     "metadata": {},
     "output_type": "execute_result"
    }
   ],
   "source": [
    "svf2.predict(X0.iloc[0:200,:])"
   ]
  },
  {
   "cell_type": "code",
   "execution_count": 18,
   "metadata": {},
   "outputs": [],
   "source": [
    "#neural network 방식\n",
    "mlp0 = MLPClassifier(hidden_layer_sizes=(50,))\n",
    "mlp1 = MLPClassifier(max_iter=300)\n"
   ]
  },
  {
   "cell_type": "code",
   "execution_count": 19,
   "metadata": {},
   "outputs": [
    {
     "name": "stdout",
     "output_type": "stream",
     "text": [
      "[0.71623672 0.52807284 0.50834598 0.65402124 0.73748103 0.70257967\n",
      " 0.68740516 0.58118361 0.51896813 0.68541033 0.67173252 0.66413374\n",
      " 0.7006079  0.70212766 0.69604863] 0.6502903450470686\n",
      "[0.71775417 0.69195751 0.59635812 0.49772382 0.71016692 0.63732929\n",
      " 0.57056146 0.6646434  0.47951442 0.67477204 0.72948328 0.6231003\n",
      " 0.71276596 0.50759878 0.63525836] 0.6299325218738903\n"
     ]
    }
   ],
   "source": [
    "score_m0 = cross_val_score(mlp0, X0, y, cv = k_fold, scoring = scoring)\n",
    "score_m1 = cross_val_score(mlp1, X0, y, cv = k_fold, scoring = scoring)\n",
    "print(score_m0, np.mean(np.array(score_m0)))\n",
    "print(score_m1, np.mean(np.array(score_m1)))"
   ]
  },
  {
   "cell_type": "code",
   "execution_count": 20,
   "metadata": {},
   "outputs": [
    {
     "name": "stdout",
     "output_type": "stream",
     "text": [
      "[0.73444613 0.71168437 0.69954476 0.70713202 0.75569044 0.72837633\n",
      " 0.70713202 0.71320182 0.74962064 0.72340426 0.74620061 0.7112462\n",
      " 0.75379939 0.74468085 0.72796353] 0.7276082240599724\n"
     ]
    }
   ],
   "source": [
    "#SVC - 축약되지 않은 데이터로 검사\n",
    "score_s00 = cross_val_score(svf0, X, y, cv = k_fold, scoring = scoring)\n",
    "print(score_s00, np.mean(np.array(score_s00)))"
   ]
  },
  {
   "cell_type": "code",
   "execution_count": 40,
   "metadata": {},
   "outputs": [
    {
     "name": "stdout",
     "output_type": "stream",
     "text": [
      "[0.72989378 0.69195751 0.71320182 0.70257967 0.75417299 0.70561457\n",
      " 0.71927162 0.71320182 0.75417299 0.69452888 0.74164134 0.71884498\n",
      " 0.74772036 0.71732523 0.70972644] 0.7209236001248398\n"
     ]
    }
   ],
   "source": [
    "score_d00 = cross_val_score(rff0, X, y, cv = k_fold, scoring = scoring)\n",
    "print(score_d00, np.mean(np.array(score_d00)))"
   ]
  },
  {
   "cell_type": "code",
   "execution_count": 42,
   "metadata": {},
   "outputs": [],
   "source": [
    "score_s00 = cross_val_score(svf0, X, y, cv = k_fold, scoring = scoring)"
   ]
  },
  {
   "cell_type": "code",
   "execution_count": 43,
   "metadata": {},
   "outputs": [],
   "source": [
    "score_d00 = cross_val_score(rff2, X, y, cv = k_fold, scoring = scoring)"
   ]
  },
  {
   "cell_type": "code",
   "execution_count": 44,
   "metadata": {},
   "outputs": [],
   "source": [
    "import timeit"
   ]
  },
  {
   "cell_type": "code",
   "execution_count": 55,
   "metadata": {},
   "outputs": [
    {
     "data": {
      "text/plain": [
       "383.2485660000002"
      ]
     },
     "execution_count": 55,
     "metadata": {},
     "output_type": "execute_result"
    }
   ],
   "source": [
    "#RandomForest\n",
    "timeit.timeit(lambda: cross_val_score(rff0, X, y, cv = k_fold, scoring = scoring), number=10)\n"
   ]
  },
  {
   "cell_type": "code",
   "execution_count": 54,
   "metadata": {},
   "outputs": [
    {
     "data": {
      "text/plain": [
       "685.1062686000005"
      ]
     },
     "execution_count": 54,
     "metadata": {},
     "output_type": "execute_result"
    }
   ],
   "source": [
    "#SVM 방식\n",
    "timeit.timeit(lambda: cross_val_score(svf0, X, y, cv = k_fold, scoring = scoring), number=10)"
   ]
  },
  {
   "cell_type": "code",
   "execution_count": 53,
   "metadata": {},
   "outputs": [
    {
     "data": {
      "text/plain": [
       "24.337547400000403"
      ]
     },
     "execution_count": 53,
     "metadata": {},
     "output_type": "execute_result"
    }
   ],
   "source": [
    "# KNN방식\n",
    "timeit.timeit(lambda: cross_val_score(clf1, X, y, cv = k_fold, scoring = scoring), number=10)"
   ]
  },
  {
   "cell_type": "code",
   "execution_count": 52,
   "metadata": {
    "scrolled": true
   },
   "outputs": [
    {
     "data": {
      "text/plain": [
       "34.37555430000066"
      ]
     },
     "execution_count": 52,
     "metadata": {},
     "output_type": "execute_result"
    }
   ],
   "source": [
    "# DecisionTree방식\n",
    "timeit.timeit(lambda: cross_val_score(dtf0, X, y, cv = k_fold, scoring = scoring), number=10)"
   ]
  },
  {
   "cell_type": "code",
   "execution_count": null,
   "metadata": {},
   "outputs": [],
   "source": []
  }
 ],
 "metadata": {
  "kernelspec": {
   "display_name": "Python 3",
   "language": "python",
   "name": "python3"
  },
  "language_info": {
   "codemirror_mode": {
    "name": "ipython",
    "version": 3
   },
   "file_extension": ".py",
   "mimetype": "text/x-python",
   "name": "python",
   "nbconvert_exporter": "python",
   "pygments_lexer": "ipython3",
   "version": "3.8.3"
  }
 },
 "nbformat": 4,
 "nbformat_minor": 4
}
