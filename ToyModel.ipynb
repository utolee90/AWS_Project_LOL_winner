{
 "cells": [
  {
   "cell_type": "code",
   "execution_count": 1,
   "metadata": {},
   "outputs": [],
   "source": [
    "import numpy, sympy, scipy\n",
    "from matplotlib import pyplot\n",
    "import pandas\n",
    "from sympy import oo, symbols, pprint\n",
    "#함수 정의.\n",
    "from scipy.stats import norm\n",
    "import pickle"
   ]
  },
  {
   "cell_type": "code",
   "execution_count": 6,
   "metadata": {},
   "outputs": [],
   "source": [
    "from sklearn.linear_model import LinearRegression"
   ]
  },
  {
   "cell_type": "code",
   "execution_count": 3,
   "metadata": {},
   "outputs": [],
   "source": [
    "def win_pos_rate(pos, c1, c2, wl_d): #위치, 챔피언1, 챔피언2 입력 포지션에 대해 c1>c2 승률\n",
    "    win_cnt = 0\n",
    "    lose_cnt = 0\n",
    "    for dat in wl_d: # 데이터에 대해 for문 돌리기\n",
    "        if dat[1][pos] == c1 and dat[0][pos] == c2:\n",
    "            win_cnt +=1\n",
    "        elif dat[0][pos] == c1 and dat[1][pos] == c2:\n",
    "            lose_cnt +=1\n",
    "    return (win_cnt/(win_cnt+lose_cnt), win_cnt, lose_cnt) if win_cnt+lose_cnt !=0 else (0.5, 0,0)\n",
    "        "
   ]
  },
  {
   "cell_type": "code",
   "execution_count": 8,
   "metadata": {},
   "outputs": [],
   "source": [
    "def win_count(myteam, oppteam=None, wl_d=None): #상대승률 함수\n",
    "    cnt_win = 0\n",
    "    cnt_lose = 0\n",
    "    if oppteam == None:\n",
    "        for ele in wl_d:\n",
    "            if not any(ele[1]- numpy.array(myteam)):\n",
    "                cnt_win +=1\n",
    "            elif not any(ele[0]- numpy.array(myteam)):\n",
    "                cnt_lose +=1\n",
    "        \n",
    "    else:\n",
    "        for ele in wl_d:\n",
    "            if not any(ele[1]- numpy.array(myteam)) and not any(ele[0]- numpy.array(oppteam)):\n",
    "                cnt_win +=1\n",
    "            elif not any(ele[0]- numpy.array(myteam)) and not any(ele[1]- numpy.array(oppteam)):\n",
    "                cnt_lose +=1\n",
    "                \n",
    "    return cnt_win, cnt_lose"
   ]
  },
  {
   "cell_type": "code",
   "execution_count": 13,
   "metadata": {},
   "outputs": [],
   "source": [
    "def probe_test(mu =0, nu =0):\n",
    "    x = numpy.arange(-10,10,1)\n",
    "    res0 =0\n",
    "    node = [ -numpy.sqrt(1/9*(5+2*numpy.sqrt(10/7))), \n",
    "            -numpy.sqrt(1/9*(5-2*numpy.sqrt(10/7))), \n",
    "            0, \n",
    "            numpy.sqrt(1/9*(5-2*numpy.sqrt(10/7))), \n",
    "            numpy.sqrt(1/9*(5+2*numpy.sqrt(10/7))) ]\n",
    "    weight = [ 0.3*(0.7+5*numpy.sqrt(0.7))/(2+5*numpy.sqrt(0.7)) , \n",
    "              0.3*(-0.7+5*numpy.sqrt(0.7))/(-2+5*numpy.sqrt(0.7)) , \n",
    "              128/225, \n",
    "              0.3*(-0.7+5*numpy.sqrt(0.7))/(-2+5*numpy.sqrt(0.7)), \n",
    "              0.3*(0.7+5*numpy.sqrt(0.7))/(2+5*numpy.sqrt(0.7)) ]\n",
    "    for xval in range(x.size):\n",
    "        for yval in range(xval+1):\n",
    "            res1, res2 =0, 0\n",
    "            for c in range(5):\n",
    "                res1 += 0.5*weight[c]*norm.pdf(0.5*node[c]+x[xval]+0.5 -mu)\n",
    "            for d in range(5):\n",
    "                res2 += 0.5*weight[d]*norm.pdf(0.5*node[d]+x[yval]+0.5 -nu)\n",
    "            res0 += 0.5*res1*res2 if xval == yval else res1*res2\n",
    "    \n",
    "    return res0\n",
    "            \n",
    "\n",
    "            "
   ]
  },
  {
   "cell_type": "code",
   "execution_count": 2,
   "metadata": {},
   "outputs": [],
   "source": [
    "#Gauss Quadrature 방식 사용. \n",
    "node = [ -numpy.sqrt(1/9*(5+2*numpy.sqrt(10/7))), -numpy.sqrt(1/9*(5-2*numpy.sqrt(10/7))), 0, numpy.sqrt(1/9*(5-2*numpy.sqrt(10/7))), numpy.sqrt(1/9*(5+2*numpy.sqrt(10/7))) ]\n",
    "weight = [ 0.3*(0.7+5*numpy.sqrt(0.7))/(2+5*numpy.sqrt(0.7)) , 0.3*(-0.7+5*numpy.sqrt(0.7))/(-2+5*numpy.sqrt(0.7)) , 128/225, 0.3*(-0.7+5*numpy.sqrt(0.7))/(-2+5*numpy.sqrt(0.7)), 0.3*(0.7+5*numpy.sqrt(0.7))/(2+5*numpy.sqrt(0.7)) ]"
   ]
  },
  {
   "cell_type": "code",
   "execution_count": 3,
   "metadata": {},
   "outputs": [
    {
     "name": "stdout",
     "output_type": "stream",
     "text": [
      "0.9999999999998352\n"
     ]
    }
   ],
   "source": [
    "x = numpy.arange(-10,10,1)\n",
    "res = 0\n",
    "for xval in x:\n",
    "    for c in range(5):\n",
    "        res += 0.5*weight[c]*norm.pdf(0.5*node[c]+xval+0.5)\n",
    "print(res)\n"
   ]
  },
  {
   "cell_type": "code",
   "execution_count": 4,
   "metadata": {},
   "outputs": [
    {
     "data": {
      "text/plain": [
       "1.0"
      ]
     },
     "execution_count": 4,
     "metadata": {},
     "output_type": "execute_result"
    }
   ],
   "source": [
    "norm.cdf(10)-norm.cdf(-10)"
   ]
  },
  {
   "cell_type": "code",
   "execution_count": 9,
   "metadata": {},
   "outputs": [],
   "source": [
    "def probe_check(mu):\n",
    "    nox = numpy.linspace(-0.4, 0.4, 100)\n",
    "    return sum([probe_test(mu, nu) for nu in nox])/100"
   ]
  },
  {
   "cell_type": "code",
   "execution_count": 7,
   "metadata": {},
   "outputs": [
    {
     "data": {
      "text/plain": [
       "0.4352222294080901"
      ]
     },
     "execution_count": 7,
     "metadata": {},
     "output_type": "execute_result"
    }
   ],
   "source": [
    "probe_test(-0.25,0)"
   ]
  },
  {
   "cell_type": "code",
   "execution_count": 10,
   "metadata": {},
   "outputs": [
    {
     "name": "stdout",
     "output_type": "stream",
     "text": [
      "[[-0.17713161  0.26892904  0.26990395 -0.23573857 -0.36932229]\n",
      " [ 0.01530439 -0.26881778  0.03699475 -0.11236099 -0.35740223]\n",
      " [ 0.09217969  0.17643758  0.27351013 -0.24770681  0.07851897]\n",
      " [ 0.13586381  0.30184666 -0.24227742  0.22778853  0.26698483]\n",
      " [-0.11680889 -0.33148407 -0.32203253 -0.11360777  0.20844917]\n",
      " [-0.08068001 -0.15804065 -0.19224768  0.29779317  0.24239999]]\n"
     ]
    }
   ],
   "source": [
    "#-0.4~0.4 사이 10행 5열 행렬 출력. 강약의 계수 파악하기 위해서...\n",
    "Xck = numpy.array([0]) #\n",
    "while Xck.size>0:\n",
    "    Xrand = (numpy.random.random((6,5))-0.5)*0.8\n",
    "    Xrsum = Xrand.sum(axis=0).reshape(1,5)\n",
    "    Xrand = Xrand - Xrsum/10 #합 0이 되게...\n",
    "    Xck = Xrand[numpy.abs(Xrand)>0.4] #절대값 0.4 이상인 애들만 추려낸다. 만약 존재하면 다시 Xrand 생성\n",
    "\n",
    "print(Xrand)"
   ]
  },
  {
   "cell_type": "code",
   "execution_count": 11,
   "metadata": {},
   "outputs": [
    {
     "name": "stdout",
     "output_type": "stream",
     "text": [
      "1번째 데이터 수집 완료!\n",
      "2번째 데이터 수집 완료!\n",
      "3번째 데이터 수집 완료!\n",
      "4번째 데이터 수집 완료!\n",
      "5번째 데이터 수집 완료!\n",
      "6번째 데이터 수집 완료!\n",
      "7번째 데이터 수집 완료!\n",
      "8번째 데이터 수집 완료!\n",
      "9번째 데이터 수집 완료!\n",
      "10번째 데이터 수집 완료!\n",
      "11번째 데이터 수집 완료!\n",
      "12번째 데이터 수집 완료!\n",
      "13번째 데이터 수집 완료!\n",
      "14번째 데이터 수집 완료!\n",
      "15번째 데이터 수집 완료!\n",
      "16번째 데이터 수집 완료!\n",
      "17번째 데이터 수집 완료!\n",
      "18번째 데이터 수집 완료!\n",
      "19번째 데이터 수집 완료!\n",
      "20번째 데이터 수집 완료!\n",
      "21번째 데이터 수집 완료!\n",
      "22번째 데이터 수집 완료!\n",
      "23번째 데이터 수집 완료!\n",
      "24번째 데이터 수집 완료!\n",
      "25번째 데이터 수집 완료!\n",
      "26번째 데이터 수집 완료!\n",
      "27번째 데이터 수집 완료!\n",
      "28번째 데이터 수집 완료!\n",
      "29번째 데이터 수집 완료!\n",
      "30번째 데이터 수집 완료!\n",
      "31번째 데이터 수집 완료!\n",
      "32번째 데이터 수집 완료!\n",
      "33번째 데이터 수집 완료!\n",
      "34번째 데이터 수집 완료!\n",
      "35번째 데이터 수집 완료!\n",
      "36번째 데이터 수집 완료!\n",
      "37번째 데이터 수집 완료!\n",
      "38번째 데이터 수집 완료!\n",
      "39번째 데이터 수집 완료!\n",
      "40번째 데이터 수집 완료!\n",
      "41번째 데이터 수집 완료!\n",
      "42번째 데이터 수집 완료!\n",
      "43번째 데이터 수집 완료!\n",
      "44번째 데이터 수집 완료!\n",
      "45번째 데이터 수집 완료!\n",
      "46번째 데이터 수집 완료!\n",
      "47번째 데이터 수집 완료!\n",
      "48번째 데이터 수집 완료!\n",
      "49번째 데이터 수집 완료!\n",
      "50번째 데이터 수집 완료!\n",
      "51번째 데이터 수집 완료!\n",
      "52번째 데이터 수집 완료!\n",
      "53번째 데이터 수집 완료!\n",
      "54번째 데이터 수집 완료!\n",
      "55번째 데이터 수집 완료!\n",
      "56번째 데이터 수집 완료!\n",
      "57번째 데이터 수집 완료!\n",
      "58번째 데이터 수집 완료!\n",
      "59번째 데이터 수집 완료!\n",
      "60번째 데이터 수집 완료!\n",
      "61번째 데이터 수집 완료!\n",
      "62번째 데이터 수집 완료!\n",
      "63번째 데이터 수집 완료!\n",
      "64번째 데이터 수집 완료!\n",
      "65번째 데이터 수집 완료!\n",
      "66번째 데이터 수집 완료!\n",
      "67번째 데이터 수집 완료!\n",
      "68번째 데이터 수집 완료!\n",
      "69번째 데이터 수집 완료!\n",
      "70번째 데이터 수집 완료!\n",
      "71번째 데이터 수집 완료!\n",
      "72번째 데이터 수집 완료!\n",
      "73번째 데이터 수집 완료!\n",
      "74번째 데이터 수집 완료!\n",
      "75번째 데이터 수집 완료!\n",
      "76번째 데이터 수집 완료!\n",
      "77번째 데이터 수집 완료!\n",
      "78번째 데이터 수집 완료!\n",
      "79번째 데이터 수집 완료!\n",
      "80번째 데이터 수집 완료!\n",
      "81번째 데이터 수집 완료!\n",
      "82번째 데이터 수집 완료!\n",
      "83번째 데이터 수집 완료!\n",
      "84번째 데이터 수집 완료!\n",
      "85번째 데이터 수집 완료!\n",
      "86번째 데이터 수집 완료!\n",
      "87번째 데이터 수집 완료!\n",
      "88번째 데이터 수집 완료!\n",
      "89번째 데이터 수집 완료!\n",
      "90번째 데이터 수집 완료!\n",
      "91번째 데이터 수집 완료!\n",
      "92번째 데이터 수집 완료!\n",
      "93번째 데이터 수집 완료!\n",
      "94번째 데이터 수집 완료!\n",
      "95번째 데이터 수집 완료!\n",
      "96번째 데이터 수집 완료!\n",
      "97번째 데이터 수집 완료!\n",
      "98번째 데이터 수집 완료!\n",
      "99번째 데이터 수집 완료!\n",
      "100번째 데이터 수집 완료!\n",
      "데이터 수집 모두 완료!\n"
     ]
    }
   ],
   "source": [
    "# \n",
    "Xrm =numpy.zeros((6,5,100) ) # 전적 숫자\n",
    "Xrw =numpy.zeros((6,5,100) ) #승리 숫자\n",
    "Xrl = numpy.zeros((6,5,100)) #승률 평균 구하기 위한 일종의 텐서.\n",
    "\n",
    "for j in range(100):\n",
    "    wl_d = [] #이기고 진 정보 저장\n",
    "    for i in range(1000000):\n",
    "        X1 = numpy.random.randint(0, 6, (5))\n",
    "        X2 = numpy.random.randint(0, 6, (5))\n",
    "        while all(X1-X2) == False: # 모두 다를 때까지 X1, X2 뽑는다.\n",
    "            X1 = numpy.random.randint(0, 6, (5))\n",
    "            X2 = numpy.random.randint(0, 6, (5))\n",
    "\n",
    "        Y1 = numpy.random.randn(5)\n",
    "        Y1 += numpy.array([ Xrand[X1[i],i] for i in range(5)]) # y1 값 할당\n",
    "        Y2 = numpy.random.randn(5)\n",
    "        Y2 += numpy.array([ Xrand[X2[i],i] for i in range(5)]) #Y2 값 할당\n",
    "        \n",
    "        Xrm[X1, range(5),j] +=1 #Xrm 매치 X1 추가\n",
    "        Xrm[X2, range(5),j] +=1 #Xrm 매치 X2 추가\n",
    "\n",
    "        if Y1.sum() > Y2.sum():\n",
    "            Xrw[X1, range(5),j] +=1 #승자는 X1 조합\n",
    "            wl_d.append({0:X2, 1:X1})\n",
    "        elif Y1.sum() < Y2.sum():\n",
    "            Xrw[X2, range(5),j] +=1 #승자는 X2 조합\n",
    "            wl_d.append({0:X1, 1:X2})\n",
    "        \n",
    "        \n",
    "    print(f'{j+1}번째 데이터 수집 완료!')\n",
    "    with open(f'wl_d_{j}.pickle', 'wb') as pk:\n",
    "        pickle.dump(wl_d, pk)\n",
    "    \n",
    "print('데이터 수집 모두 완료!')"
   ]
  },
  {
   "cell_type": "code",
   "execution_count": null,
   "metadata": {},
   "outputs": [],
   "source": [
    "win_rate = []\n",
    "res =[0]*100\n",
    "res1 = [0]*100\n",
    "\n",
    "for j in range(100):\n",
    "    with open(f'wl_d_{j}.pickle', 'rb') as pk:\n",
    "        wl_d = pickle.load(pk)\n",
    "        win_rate.append(Xrw[:,:,j]/Xrm[:,:,j])\n",
    "    \n",
    "    res[j] = [0]*5\n",
    "    res1[j] = [0]*5\n",
    "    for i in range(5):\n",
    "        WL_M = numpy.ones((6,6))*0.5\n",
    "        for t in range(6):\n",
    "            for u in range(6):\n",
    "                WL_M[t,u] = win_pos_rate(i, t, u, wl_d)[0]\n",
    "        res[j][i] = pandas.DataFrame(data=WL_M, columns=list(range(6)), index=list(range(6)))\n",
    "        WL_M1 = numpy.ones((6,6))*0.5\n",
    "        for t in range(6):\n",
    "            for u in range(6):\n",
    "                WL_M1[t,u] = probe_test(Xrand[t,i], Xrand[u,i])\n",
    "        res1[j][i] = pandas.DataFrame(data=WL_M1, columns=list(range(6)), index=list(range(6)))\n",
    "        \n",
    "    "
   ]
  },
  {
   "cell_type": "code",
   "execution_count": null,
   "metadata": {},
   "outputs": [],
   "source": [
    "#이긴 조합, 진 조합 정보 저장.\n",
    "wl_d[0:100]"
   ]
  },
  {
   "cell_type": "code",
   "execution_count": null,
   "metadata": {},
   "outputs": [],
   "source": [
    "res = [0,0,0,0,0]\n",
    "for i in range(5):\n",
    "    print(f'포지션 {i} 챔피언별 승률 : ')\n",
    "    WL_M = numpy.ones((6,6))*0.5\n",
    "    for j in range(6):\n",
    "        for k in range(6):\n",
    "            WL_M[j,k] = win_pos_rate(i, j, k)[0]\n",
    "    res[i] = pandas.DataFrame(data=WL_M, columns=list(range(6)), index=list(range(6)))\n",
    "    print(res[i])"
   ]
  },
  {
   "cell_type": "code",
   "execution_count": null,
   "metadata": {},
   "outputs": [],
   "source": [
    "res1 = [0,0,0,0,0]\n",
    "for i in range(5):\n",
    "    print(f'포지션 {i} 챔피언별 이론승률: ')\n",
    "    WL_M1 = numpy.ones((6,6))*0.5\n",
    "    for j in range(6):\n",
    "        for k in range(6):\n",
    "            WL_M1[j,k] = probe_test(Xrand[j,i], Xrand[k,i])\n",
    "    res1[i] = pandas.DataFrame(data=WL_M1, columns=list(range(6)), index=list(range(6)))\n",
    "    print(res1[i])"
   ]
  },
  {
   "cell_type": "code",
   "execution_count": null,
   "metadata": {},
   "outputs": [],
   "source": []
  },
  {
   "cell_type": "code",
   "execution_count": null,
   "metadata": {},
   "outputs": [],
   "source": [
    "\n",
    "\n",
    "fig, ax = pyplot.subplots(6,5, figsize=(15,22))\n",
    "fig.tight_layout()\n",
    "for i in range(6):\n",
    "    for j in range(5):\n",
    "        ax[i][j].plot(range(6), [numpy.mean((Xrw/Xrm), axis=2)[i,j]]*6, 'g:' )\n",
    "        ax[i][j].plot(range(6), [0.5]*6, 'r:' )\n",
    "        ax[i][j].plot(range(6), numpy.array([res[k][j].iloc[i,:] for k in range(100)]).mean(), 'b-^')\n",
    "        ax[i][j].set_title(f'Win rate of \\nChampion {i} \\nwith position {j}')\n",
    "pyplot.show()\n",
    "pyplot.savefig('champ_win_rate1.png',dpi=250)"
   ]
  },
  {
   "cell_type": "code",
   "execution_count": null,
   "metadata": {},
   "outputs": [],
   "source": [
    "#실제 조합별 승률 측정모델\n",
    "wl_d[42130][1]"
   ]
  },
  {
   "cell_type": "code",
   "execution_count": 7,
   "metadata": {},
   "outputs": [],
   "source": []
  },
  {
   "cell_type": "raw",
   "metadata": {},
   "source": [
    "%whos"
   ]
  },
  {
   "cell_type": "code",
   "execution_count": null,
   "metadata": {},
   "outputs": [],
   "source": [
    "\n",
    "xdats = []\n",
    "for i in range(5):    \n",
    "    xdat = numpy.array([[0]*6+[0.5]]) #데이터 수집\n",
    "    for t in range(6):\n",
    "        for u in range(6):\n",
    "            if t !=u:\n",
    "                xnew = numpy.zeros(7).reshape(1,-1)\n",
    "                xnew[0,j] = 1\n",
    "                xnew[0,k] =-1\n",
    "                xnew[0,6] = numpy.array([res[k][i].iloc[t,u] for k in range(100)]).mean() \n",
    "                xdat = numpy.concatenate((xdat, xnew), axis=0)\n",
    "    xdats.append(xdat)\n",
    "            "
   ]
  },
  {
   "cell_type": "code",
   "execution_count": null,
   "metadata": {},
   "outputs": [],
   "source": [
    "Tr_x = [xdats[i][:, 0:6] for i in range(5)]\n",
    "Tr_y = [xdats[i][:,6] for i in range(5)]"
   ]
  },
  {
   "cell_type": "code",
   "execution_count": null,
   "metadata": {},
   "outputs": [],
   "source": [
    "Tr_x[0].shape"
   ]
  },
  {
   "cell_type": "code",
   "execution_count": null,
   "metadata": {},
   "outputs": [],
   "source": [
    "LR = [0,0,0,0,0]\n",
    "for i in range(5):\n",
    "    LR[i] = LinearRegression()\n",
    "    LR[i].fit(Tr_x[i], Tr_y[i])\n",
    "    print(i)\n",
    "    print(LR[i].coef_, LR[i].intercept_)"
   ]
  },
  {
   "cell_type": "code",
   "execution_count": null,
   "metadata": {},
   "outputs": [],
   "source": [
    "def predict_win_rate(myteam, oppteam):\n",
    "    win =0.5\n",
    "    for i in range(5):\n",
    "        dr = numpy.zeros(6).reshape(1,-1)\n",
    "        dr[0, [myteam[i], oppteam[i]]] = [1,-1]\n",
    "        win += LR[i].predict(dr)-0.5\n",
    "    return win\n",
    "        "
   ]
  },
  {
   "cell_type": "code",
   "execution_count": null,
   "metadata": {},
   "outputs": [],
   "source": [
    "res00 = [numpy.zeros((6,6))]*5\n",
    "for i in range(5):\n",
    "    for t in range(6):\n",
    "        for u in range(6):\n",
    "            res00[i][t,u] = [res[k][i][t,u] for k in range(100)]\n",
    "            \n",
    "def predict_win_rate(myteam, oppteam): #linear requression\n",
    "    win =0.5\n",
    "    for i in range(5):\n",
    "        dr = numpy.zeros(6).reshape(1,-1)\n",
    "        dr[0, [myteam[i], oppteam[i]]] = [1,-1]\n",
    "        win += LR[i].predict(dr)-0.5\n",
    "    return win\n",
    "\n",
    "def predict_win_rate2(myteam, oppteam):\n",
    "    myteam_prod = 1\n",
    "    oppteam_prod = 1\n",
    "    for i in range(5):\n",
    "        myteam_prod *=res00[i].iloc[myteam[i], oppteam[i]]\n",
    "        oppteam_prod *= res00[i].iloc[oppteam[i], myteam[i]]\n",
    "    return (myteam_prod) / (myteam_prod + oppteam_prod)\n",
    "    "
   ]
  },
  {
   "cell_type": "code",
   "execution_count": null,
   "metadata": {},
   "outputs": [],
   "source": [
    "predict_win_rate([1,2,0,4,1], [0,3,5,2,1])"
   ]
  },
  {
   "cell_type": "code",
   "execution_count": null,
   "metadata": {},
   "outputs": [],
   "source": [
    "predict_win_rate2([1,2,0,4,1],[0,3,5,2,1])"
   ]
  },
  {
   "cell_type": "code",
   "execution_count": null,
   "metadata": {},
   "outputs": [],
   "source": [
    "win_count([1,2,0,4,1],[0,3,5,2,1])"
   ]
  }
 ],
 "metadata": {
  "kernelspec": {
   "display_name": "Python 3",
   "language": "python",
   "name": "python3"
  },
  "language_info": {
   "codemirror_mode": {
    "name": "ipython",
    "version": 3
   },
   "file_extension": ".py",
   "mimetype": "text/x-python",
   "name": "python",
   "nbconvert_exporter": "python",
   "pygments_lexer": "ipython3",
   "version": "3.8.3"
  }
 },
 "nbformat": 4,
 "nbformat_minor": 4
}
